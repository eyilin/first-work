{
  "cells": [
    {
      "cell_type": "code",
      "execution_count": null,
      "id": "6b5a2f49",
      "metadata": {
        "trusted": true
      },
      "outputs": [
        {
          "name": "stdout",
          "output_type": "stream",
          "text": [
            "1\n",
            "2\n",
            "3\n",
            "4\n",
            "5\n",
            "6\n",
            "7\n",
            "8\n",
            "9\n"
          ]
        }
      ],
      "source": [
        "# 印出九九乘法表\n",
        "# 請跟著下列的步驟，完成九九乘法表程式的寫作與列印。\n",
        "\n",
        "for r in range(1, 10):  # from 1 ~ 9，印出九列。\n",
        "    print(r)    "
      ]
    },
    {
      "cell_type": "code",
      "execution_count": 2,
      "id": "c99a535a",
      "metadata": {
        "trusted": true
      },
      "outputs": [
        {
          "name": "stdout",
          "output_type": "stream",
          "text": [
            "1 1\n",
            "1 2\n",
            "1 3\n",
            "1 4\n",
            "1 5\n",
            "1 6\n",
            "1 7\n",
            "1 8\n",
            "1 9\n",
            "2 1\n",
            "2 2\n",
            "2 3\n",
            "2 4\n",
            "2 5\n",
            "2 6\n",
            "2 7\n",
            "2 8\n",
            "2 9\n",
            "3 1\n",
            "3 2\n",
            "3 3\n",
            "3 4\n",
            "3 5\n",
            "3 6\n",
            "3 7\n",
            "3 8\n",
            "3 9\n",
            "4 1\n",
            "4 2\n",
            "4 3\n",
            "4 4\n",
            "4 5\n",
            "4 6\n",
            "4 7\n",
            "4 8\n",
            "4 9\n",
            "5 1\n",
            "5 2\n",
            "5 3\n",
            "5 4\n",
            "5 5\n",
            "5 6\n",
            "5 7\n",
            "5 8\n",
            "5 9\n",
            "6 1\n",
            "6 2\n",
            "6 3\n",
            "6 4\n",
            "6 5\n",
            "6 6\n",
            "6 7\n",
            "6 8\n",
            "6 9\n",
            "7 1\n",
            "7 2\n",
            "7 3\n",
            "7 4\n",
            "7 5\n",
            "7 6\n",
            "7 7\n",
            "7 8\n",
            "7 9\n",
            "8 1\n",
            "8 2\n",
            "8 3\n",
            "8 4\n",
            "8 5\n",
            "8 6\n",
            "8 7\n",
            "8 8\n",
            "8 9\n",
            "9 1\n",
            "9 2\n",
            "9 3\n",
            "9 4\n",
            "9 5\n",
            "9 6\n",
            "9 7\n",
            "9 8\n",
            "9 9\n"
          ]
        }
      ],
      "source": [
        "# 需要雙層迴圈: 創造兩數相乘的項。\n",
        "\n",
        "for r in range(1, 10):\n",
        "    for c in range(1, 10):\n",
        "        print(r, c)"
      ]
    },
    {
      "cell_type": "code",
      "execution_count": 3,
      "id": "cd916066",
      "metadata": {
        "trusted": true
      },
      "outputs": [
        {
          "name": "stdout",
          "output_type": "stream",
          "text": [
            "1x1=1\n",
            "1x2=2\n",
            "1x3=3\n",
            "1x4=4\n",
            "1x5=5\n",
            "1x6=6\n",
            "1x7=7\n",
            "1x8=8\n",
            "1x9=9\n",
            "2x1=2\n",
            "2x2=4\n",
            "2x3=6\n",
            "2x4=8\n",
            "2x5=10\n",
            "2x6=12\n",
            "2x7=14\n",
            "2x8=16\n",
            "2x9=18\n",
            "3x1=3\n",
            "3x2=6\n",
            "3x3=9\n",
            "3x4=12\n",
            "3x5=15\n",
            "3x6=18\n",
            "3x7=21\n",
            "3x8=24\n",
            "3x9=27\n",
            "4x1=4\n",
            "4x2=8\n",
            "4x3=12\n",
            "4x4=16\n",
            "4x5=20\n",
            "4x6=24\n",
            "4x7=28\n",
            "4x8=32\n",
            "4x9=36\n",
            "5x1=5\n",
            "5x2=10\n",
            "5x3=15\n",
            "5x4=20\n",
            "5x5=25\n",
            "5x6=30\n",
            "5x7=35\n",
            "5x8=40\n",
            "5x9=45\n",
            "6x1=6\n",
            "6x2=12\n",
            "6x3=18\n",
            "6x4=24\n",
            "6x5=30\n",
            "6x6=36\n",
            "6x7=42\n",
            "6x8=48\n",
            "6x9=54\n",
            "7x1=7\n",
            "7x2=14\n",
            "7x3=21\n",
            "7x4=28\n",
            "7x5=35\n",
            "7x6=42\n",
            "7x7=49\n",
            "7x8=56\n",
            "7x9=63\n",
            "8x1=8\n",
            "8x2=16\n",
            "8x3=24\n",
            "8x4=32\n",
            "8x5=40\n",
            "8x6=48\n",
            "8x7=56\n",
            "8x8=64\n",
            "8x9=72\n",
            "9x1=9\n",
            "9x2=18\n",
            "9x3=27\n",
            "9x4=36\n",
            "9x5=45\n",
            "9x6=54\n",
            "9x7=63\n",
            "9x8=72\n",
            "9x9=81\n"
          ]
        }
      ],
      "source": [
        "# 印出乘法表的內容了，\n",
        "# 但是無法讓他們只出現在九列上。\n",
        "    \n",
        "for r in range(1, 10):\n",
        "    for c in range(1, 10):\n",
        "        print(f\"{r}x{c}={r*c}\")        "
      ]
    },
    {
      "cell_type": "code",
      "execution_count": 4,
      "id": "b1028ae8",
      "metadata": {
        "trusted": true
      },
      "outputs": [
        {
          "name": "stdout",
          "output_type": "stream",
          "text": [
            "1x1=11x2=21x3=31x4=41x5=51x6=61x7=71x8=81x9=92x1=22x2=42x3=62x4=82x5=102x6=122x7=142x8=162x9=183x1=33x2=63x3=93x4=123x5=153x6=183x7=213x8=243x9=274x1=44x2=84x3=124x4=164x5=204x6=244x7=284x8=324x9=365x1=55x2=105x3=155x4=205x5=255x6=305x7=355x8=405x9=456x1=66x2=126x3=186x4=246x5=306x6=366x7=426x8=486x9=547x1=77x2=147x3=217x4=287x5=357x6=427x7=497x8=567x9=638x1=88x2=168x3=248x4=328x5=408x6=488x7=568x8=648x9=729x1=99x2=189x3=279x4=369x5=459x6=549x7=639x8=729x9=81"
          ]
        }
      ],
      "source": [
        "for r in range(1, 10):\n",
        "    for c in range(1, 10):\n",
        "        print(f\"{r}x{c}={r*c}\", end=\"\")  # end=\"\", 讓換行不再總是發生！\n",
        "\n",
        "# 每項之間需要空格，且每列結束，還是需要換行！        "
      ]
    },
    {
      "cell_type": "code",
      "execution_count": 5,
      "id": "85367170",
      "metadata": {
        "trusted": true
      },
      "outputs": [
        {
          "name": "stdout",
          "output_type": "stream",
          "text": [
            "1x1=1 1x2=2 1x3=3 1x4=4 1x5=5 1x6=6 1x7=7 1x8=8 1x9=9 \n",
            "2x1=2 2x2=4 2x3=6 2x4=8 2x5=10 2x6=12 2x7=14 2x8=16 2x9=18 \n",
            "3x1=3 3x2=6 3x3=9 3x4=12 3x5=15 3x6=18 3x7=21 3x8=24 3x9=27 \n",
            "4x1=4 4x2=8 4x3=12 4x4=16 4x5=20 4x6=24 4x7=28 4x8=32 4x9=36 \n",
            "5x1=5 5x2=10 5x3=15 5x4=20 5x5=25 5x6=30 5x7=35 5x8=40 5x9=45 \n",
            "6x1=6 6x2=12 6x3=18 6x4=24 6x5=30 6x6=36 6x7=42 6x8=48 6x9=54 \n",
            "7x1=7 7x2=14 7x3=21 7x4=28 7x5=35 7x6=42 7x7=49 7x8=56 7x9=63 \n",
            "8x1=8 8x2=16 8x3=24 8x4=32 8x5=40 8x6=48 8x7=56 8x8=64 8x9=72 \n",
            "9x1=9 9x2=18 9x3=27 9x4=36 9x5=45 9x6=54 9x7=63 9x8=72 9x9=81 \n"
          ]
        }
      ],
      "source": [
        "for r in range(1, 10):\n",
        "    for c in range(1, 10):\n",
        "        print(f\"{r}x{c}={r*c} \", end=\"\")  # end=\"\", 讓換行不再總是發生！\n",
        "    print()\n",
        "    \n",
        "# 每項之間需要空格，且每列結束，還是需要換行！        "
      ]
    },
    {
      "cell_type": "code",
      "execution_count": 6,
      "id": "bf14df47",
      "metadata": {
        "trusted": true
      },
      "outputs": [
        {
          "name": "stdout",
          "output_type": "stream",
          "text": [
            "1x1= 1 1x2= 2 1x3= 3 1x4= 4 1x5= 5 1x6= 6 1x7= 7 1x8= 8 1x9= 9 \n",
            "2x1= 2 2x2= 4 2x3= 6 2x4= 8 2x5=10 2x6=12 2x7=14 2x8=16 2x9=18 \n",
            "3x1= 3 3x2= 6 3x3= 9 3x4=12 3x5=15 3x6=18 3x7=21 3x8=24 3x9=27 \n",
            "4x1= 4 4x2= 8 4x3=12 4x4=16 4x5=20 4x6=24 4x7=28 4x8=32 4x9=36 \n",
            "5x1= 5 5x2=10 5x3=15 5x4=20 5x5=25 5x6=30 5x7=35 5x8=40 5x9=45 \n",
            "6x1= 6 6x2=12 6x3=18 6x4=24 6x5=30 6x6=36 6x7=42 6x8=48 6x9=54 \n",
            "7x1= 7 7x2=14 7x3=21 7x4=28 7x5=35 7x6=42 7x7=49 7x8=56 7x9=63 \n",
            "8x1= 8 8x2=16 8x3=24 8x4=32 8x5=40 8x6=48 8x7=56 8x8=64 8x9=72 \n",
            "9x1= 9 9x2=18 9x3=27 9x4=36 9x5=45 9x6=54 9x7=63 9x8=72 9x9=81 \n"
          ]
        },
        {
          "data": {
            "text/plain": [
              "'\\n其中，\\n1) print(f\"{r}x{c}={r*c} \", end=\"\")  <-- 在結果後加上一個空格，讓輸出清楚些！\\n\\n儘管這樣依然無法對齊！原因是乘法的結果，可能是一位數或兩位數，\\n所以先通通將它當成兩位數來印：\\n2) print(f\"{r}x{c}={r*c:2} \", end=\"\")  <-- 在結果後加上一個空格，讓輸出清楚些！\\n                       ^^ :2, 表示要將r*c的值當成兩位數來印！\\n                       \\n最後，你或許會覺得要是能把 rx1= r 印成 rx1=r，似乎就更完美了！\\n\\n請嘗試修改程式，完成下列最終版的輸出！\\n3)\\n1x1=1 1x2= 2 1x3= 3 1x4= 4 1x5= 5 1x6= 6 1x7= 7 1x8= 8 1x9= 9 \\n2x1=2 2x2= 4 2x3= 6 2x4= 8 2x5=10 2x6=12 2x7=14 2x8=16 2x9=18 \\n3x1=3 3x2= 6 3x3= 9 3x4=12 3x5=15 3x6=18 3x7=21 3x8=24 3x9=27 \\n4x1=4 4x2= 8 4x3=12 4x4=16 4x5=20 4x6=24 4x7=28 4x8=32 4x9=36 \\n5x1=5 5x2=10 5x3=15 5x4=20 5x5=25 5x6=30 5x7=35 5x8=40 5x9=45 \\n6x1=6 6x2=12 6x3=18 6x4=24 6x5=30 6x6=36 6x7=42 6x8=48 6x9=54 \\n7x1=7 7x2=14 7x3=21 7x4=28 7x5=35 7x6=42 7x7=49 7x8=56 7x9=63 \\n8x1=8 8x2=16 8x3=24 8x4=32 8x5=40 8x6=48 8x7=56 8x8=64 8x9=72 \\n9x1=9 9x2=18 9x3=27 9x4=36 9x5=45 9x6=54 9x7=63 9x8=72 9x9=81\\n'"
            ]
          },
          "execution_count": 6,
          "metadata": {},
          "output_type": "execute_result"
        }
      ],
      "source": [
        "for r in range(1, 10):\n",
        "    for c in range(1, 10):\n",
        "        print(f\"{r}x{c}={r*c:2} \", end=\"\")  # 在 {r*c:2} 後，加入一個空格！\n",
        "        \n",
        "    print()  # 每列完成列印後，要換行！\n",
        "    \n",
        "'''\n",
        "其中，\n",
        "1) print(f\"{r}x{c}={r*c} \", end=\"\")  <-- 在結果後加上一個空格，讓輸出清楚些！\n",
        "\n",
        "儘管這樣依然無法對齊！原因是乘法的結果，可能是一位數或兩位數，\n",
        "所以先通通將它當成兩位數來印：\n",
        "2) print(f\"{r}x{c}={r*c:2} \", end=\"\")  <-- 在結果後加上一個空格，讓輸出清楚些！\n",
        "                       ^^ :2, 表示要將r*c的值當成兩位數來印！\n",
        "                       \n",
        "最後，你或許會覺得要是能把 rx1= r 印成 rx1=r，似乎就更完美了！\n",
        "\n",
        "請嘗試修改程式，完成下列最終版的輸出！\n",
        "3)\n",
        "1x1=1 1x2= 2 1x3= 3 1x4= 4 1x5= 5 1x6= 6 1x7= 7 1x8= 8 1x9= 9 \n",
        "2x1=2 2x2= 4 2x3= 6 2x4= 8 2x5=10 2x6=12 2x7=14 2x8=16 2x9=18 \n",
        "3x1=3 3x2= 6 3x3= 9 3x4=12 3x5=15 3x6=18 3x7=21 3x8=24 3x9=27 \n",
        "4x1=4 4x2= 8 4x3=12 4x4=16 4x5=20 4x6=24 4x7=28 4x8=32 4x9=36 \n",
        "5x1=5 5x2=10 5x3=15 5x4=20 5x5=25 5x6=30 5x7=35 5x8=40 5x9=45 \n",
        "6x1=6 6x2=12 6x3=18 6x4=24 6x5=30 6x6=36 6x7=42 6x8=48 6x9=54 \n",
        "7x1=7 7x2=14 7x3=21 7x4=28 7x5=35 7x6=42 7x7=49 7x8=56 7x9=63 \n",
        "8x1=8 8x2=16 8x3=24 8x4=32 8x5=40 8x6=48 8x7=56 8x8=64 8x9=72 \n",
        "9x1=9 9x2=18 9x3=27 9x4=36 9x5=45 9x6=54 9x7=63 9x8=72 9x9=81\n",
        "'''"
      ]
    },
    {
      "cell_type": "code",
      "execution_count": 7,
      "id": "cbad5c38-53f3-468d-a0c4-4eee827589bc",
      "metadata": {
        "trusted": true
      },
      "outputs": [
        {
          "name": "stdout",
          "output_type": "stream",
          "text": [
            "1x1=1  1x2=2  1x3=3  1x4=4  1x5=5  1x6=6  1x7=7  1x8=8  1x9=9  \n",
            "2x1=2  2x2=4  2x3=6  2x4=8  2x5=10 2x6=12 2x7=14 2x8=16 2x9=18 \n",
            "3x1=3  3x2=6  3x3=9  3x4=12 3x5=15 3x6=18 3x7=21 3x8=24 3x9=27 \n",
            "4x1=4  4x2=8  4x3=12 4x4=16 4x5=20 4x6=24 4x7=28 4x8=32 4x9=36 \n",
            "5x1=5  5x2=10 5x3=15 5x4=20 5x5=25 5x6=30 5x7=35 5x8=40 5x9=45 \n",
            "6x1=6  6x2=12 6x3=18 6x4=24 6x5=30 6x6=36 6x7=42 6x8=48 6x9=54 \n",
            "7x1=7  7x2=14 7x3=21 7x4=28 7x5=35 7x6=42 7x7=49 7x8=56 7x9=63 \n",
            "8x1=8  8x2=16 8x3=24 8x4=32 8x5=40 8x6=48 8x7=56 8x8=64 8x9=72 \n",
            "9x1=9  9x2=18 9x3=27 9x4=36 9x5=45 9x6=54 9x7=63 9x8=72 9x9=81 \n"
          ]
        }
      ],
      "source": [
        "for r in range(1, 10):\n",
        "    for c in range(1, 10):\n",
        "        if r*c <10 :\n",
        "            print(f\"{r}x{c}={r*c} \", end=\" \")\n",
        "        else :\n",
        "            print(f\"{r}x{c}={r*c} \", end=\"\")\n",
        "    print()"
      ]
    },
    {
      "cell_type": "code",
      "execution_count": 8,
      "id": "646edd6a",
      "metadata": {
        "trusted": true
      },
      "outputs": [
        {
          "name": "stdout",
          "output_type": "stream",
          "text": [
            "1,2,3,4,5,6,7,8,9"
          ]
        }
      ],
      "source": [
        "# 資料的列印\n",
        "# ----------------------------------\n",
        "'''\n",
        "請使用 for-in 印出下列的結果: (不可以直接打成一列字，一次印出來！)\n",
        "\n",
        "1,2,3,4,5,6,7,8,9\n",
        "'''\n",
        "\n",
        "for k in range(1, 10):\n",
        "    if k == 1:\n",
        "        print(k, end=\"\")\n",
        "    else:\n",
        "        print(\",\", k, sep=\"\", end=\"\")"
      ]
    },
    {
      "cell_type": "code",
      "execution_count": 9,
      "id": "18c8d48a",
      "metadata": {
        "trusted": true
      },
      "outputs": [
        {
          "name": "stdout",
          "output_type": "stream",
          "text": [
            "|1|2|3|4|5|6|7|8|9|"
          ]
        }
      ],
      "source": [
        "'''\n",
        "請使用 for-in 印出下列的結果: (不可以直接打成一列字，一次印出來！)\n",
        "\n",
        "|1|2|3|4|5|6|7|8|9|\n",
        "'''\n",
        "for k in range(1, 10):\n",
        "    if k != 1:\n",
        "        print(k, end=\"|\")\n",
        "    else:\n",
        "        print(\"|\", k, sep=\"\", end=\"|\")"
      ]
    },
    {
      "cell_type": "code",
      "execution_count": 14,
      "id": "84cde4ea",
      "metadata": {
        "trusted": true
      },
      "outputs": [
        {
          "name": "stdout",
          "output_type": "stream",
          "text": [
            "(1),(2),(3),(4),(5),(6),(7),(8),(9)"
          ]
        }
      ],
      "source": [
        "'''\n",
        "請使用 for-in 印出下列的結果: (不可以直接打成一列字，一次印出來！)\n",
        "\n",
        "(1),(2),(3),(4),(5),(6),(7),(8),(9)\n",
        "'''\n",
        "for k in range(1, 10):\n",
        "    if k == 1:\n",
        "        print(\"(\", k, sep=\"\", end=\"),(\")\n",
        "    elif k == 9:\n",
        "        print(k, sep=\"\", end=\")\")\n",
        "    else:\n",
        "        print(k, sep=\"\", end=\"),(\")"
      ]
    },
    {
      "cell_type": "code",
      "execution_count": 29,
      "id": "90c530b5",
      "metadata": {
        "trusted": true
      },
      "outputs": [
        {
          "name": "stdout",
          "output_type": "stream",
          "text": [
            "(1,2),(3,4),(5,6),(7,8),(9,)"
          ]
        }
      ],
      "source": [
        "'''\n",
        "請使用 for-in 印出下列的結果: (不可以直接打成一列字，一次印出來！)\n",
        "\n",
        "n = 10\n",
        "(1,2),(3,4),(5,6),(7,8),(9,)\n",
        "'''\n",
        "n = 10\n",
        "for k in range(1,n ,2):\n",
        "    if k == 9 :\n",
        "        print(\"(\", k,\",\",sep=\"\",end=\")\")\n",
        "    else :\n",
        "        print(\"(\", k,\",\", k+1, sep=\"\", end=\"),\")      "
      ]
    },
    {
      "cell_type": "code",
      "execution_count": 53,
      "id": "67d39bd9",
      "metadata": {
        "trusted": true
      },
      "outputs": [
        {
          "name": "stdout",
          "output_type": "stream",
          "text": [
            "(1,2),(3,4),(5,6),(7,8),(9,10)"
          ]
        }
      ],
      "source": [
        "'''\n",
        "請使用 for-in 印出下列的結果: (不可以直接打成一列字，一次印出來！)\n",
        "\n",
        "n = 11\n",
        "(1,2),(3,4),(5,6),(7,8),(9,10)\n",
        "\n",
        "'''\n",
        "n = 11\n",
        "for k in range(1,n ,2):\n",
        "    if k == 9 :\n",
        "        print(\"(\", k,\",\", k+1, sep=\"\", end=\")\")\n",
        "    else :\n",
        "        print(\"(\", k,\",\", k+1, sep=\"\", end=\"),\")"
      ]
    },
    {
      "cell_type": "code",
      "execution_count": 54,
      "id": "527e4fd6",
      "metadata": {
        "trusted": true
      },
      "outputs": [
        {
          "name": "stdout",
          "output_type": "stream",
          "text": [
            "12345 -> 5\n",
            "abc def -> 7\n",
            "中文測試 -> 4\n"
          ]
        }
      ],
      "source": [
        "'''\n",
        "# 使用 len(source) 可以取得 source 資料的長度, \n",
        "source: 可以是 字串，串列(list) 等型態。\n",
        "'''\n",
        "\n",
        "msg1 = '12345'\n",
        "msg2 = 'abc def'\n",
        "msg3 = \"中文測試\"\n",
        "\n",
        "len_1 = len(msg1)  # 使用 len() 可以取得資料的長度。\n",
        "print(msg1, '->', len_1)\n",
        "\n",
        "len_2 = len(msg2)\n",
        "print(msg2, '->', len_2)\n",
        "\n",
        "len_3 = len(msg3)\n",
        "print(msg3, '->', len_3)"
      ]
    },
    {
      "cell_type": "code",
      "execution_count": 55,
      "id": "e325c3b2",
      "metadata": {
        "trusted": true
      },
      "outputs": [
        {
          "name": "stdout",
          "output_type": "stream",
          "text": [
            "[10, 25, 34, 76, 55, 69, 74, 93, 86] -> 9\n"
          ]
        }
      ],
      "source": [
        "'''\n",
        "Python 的串列，可以當成其他語言中的陣列來使用。\n",
        "最大的差別是：陣列需要放相同型態的資料，但串列則無此限制！\n",
        "'''\n",
        "\n",
        "# 先以相同資料型態來進行說明與引用：\n",
        "# 串列定義: [元素1, 元素2, 元素3, ..., 元素n]\n",
        "\n",
        "lst_1 = [10, 25, 34, 76, 55, 69, 74, 93, 86]\n",
        "\n",
        "# 使用 len() 算出串列(list)的長度，就是包含多少個元素的意思！\n",
        "len_lst = len(lst_1)\n",
        "\n",
        "print(lst_1, '->', len_lst)"
      ]
    },
    {
      "cell_type": "code",
      "execution_count": 56,
      "id": "76139d79",
      "metadata": {
        "trusted": true
      },
      "outputs": [
        {
          "name": "stdout",
          "output_type": "stream",
          "text": [
            "lst_1= [10, 25, 34, 76, 55, 69, 74, 93, 86]\n",
            "lst_1[0] = 10\n",
            "lst_1[1] = 25\n",
            "lst_1[2] = 34\n",
            "lst_1[3] = 76\n",
            "lst_1[4] = 55\n",
            "lst_1[5] = 69\n",
            "lst_1[6] = 74\n",
            "lst_1[7] = 93\n",
            "lst_1[8] = 86\n"
          ]
        }
      ],
      "source": [
        "#印出串列中的每一個元素：索引值從開始！\n",
        "\n",
        "lst_1 = [10, 25, 34, 76, 55, 69, 74, 93, 86]\n",
        "\n",
        "print(\"lst_1=\", lst_1)\n",
        "\n",
        "for i in range(len_lst):  # 0 ~ len_lst - 1\n",
        "    print(f\"lst_1[{i}] = {lst_1[i]}\")\n",
        "    "
      ]
    },
    {
      "cell_type": "code",
      "execution_count": 57,
      "id": "b12d011b",
      "metadata": {
        "trusted": true
      },
      "outputs": [
        {
          "name": "stdout",
          "output_type": "stream",
          "text": [
            "86  93  74  69  55  76  34  25  10  \n"
          ]
        }
      ],
      "source": [
        "# 倒著印出串列中的每一個元素-1\n",
        "\n",
        "lst_1 = [10, 25, 34, 76, 55, 69, 74, 93, 86]\n",
        "\n",
        "for i in range(len(lst_1)-1, -1, -1):\n",
        "    print(lst_1[i], \" \", end=\"\")\n",
        "    \n",
        "print()"
      ]
    },
    {
      "cell_type": "code",
      "execution_count": 86,
      "id": "5d5c383d",
      "metadata": {
        "trusted": true
      },
      "outputs": [
        {
          "name": "stdout",
          "output_type": "stream",
          "text": [
            "86 93 74\n",
            "10  86  93  74  69  55  76  34  25  \n"
          ]
        }
      ],
      "source": [
        "# 倒著印出串列中的每一個元素-2\n",
        "# 使用負的索引值來，來從後面印出元素的值！\n",
        "\n",
        "lst_1 = [10, 25, 34, 76, 55, 69, 74, 93, 86]\n",
        "print(lst_1[-1], lst_1[-2], lst_1[-3])  #   -3, -2, -1  \n",
        "\n",
        "# Q: 使用 for-in 並透過負索引值，完成倒印串列的輸出：\n",
        "\n",
        "# 請填入 range 中的 起始值 與 中止值。\n",
        "# for i in range(起始值, 中止值):\n",
        "lst_1 = [10, 25, 34, 76, 55, 69, 74, 93, 86]\n",
        "for i in range(lst_1[1],lst_1 = [10, 25, 34, 76, 55, 69, 74, 93, 86]):\n",
        "    print(lst_1[-i], \" \", end=\"\")\n",
        "print()"
      ]
    },
    {
      "cell_type": "code",
      "execution_count": null,
      "id": "de93d009",
      "metadata": {},
      "outputs": [],
      "source": [
        "# 找出 lst_1 中的最大值：\n",
        "\n",
        "# method 1: DIY, Do It by Yourself.\n",
        "\n",
        "# 先假設第一個是最大值，再跟其他的元素比較，只要是比目前值大的就是新的最大值！\n",
        "maxVal = lst_1[0]\n",
        "\n",
        "for i in range(1, len(lst_1)):\n",
        "    if maxVal < lst_1[i]:  # 存在比目前 maxVal 數值還大的項！\n",
        "        maxVal = lst_1[i]\n",
        "        \n",
        "print(f\"Max value in lst_1 is {maxVal}.\")\n",
        "\n",
        "\n",
        "# method 2: using the built-in function of python\n",
        "# print(max(lst_1))  # 其實 Python 有好用的函式: max(lst_1)。\n",
        "\n",
        "\n",
        "# Q: 請模仿上述程式碼，找出最小值。\n"
      ]
    },
    {
      "cell_type": "code",
      "execution_count": null,
      "id": "3ff28c5e",
      "metadata": {},
      "outputs": [],
      "source": [
        "# Q: 計算總和，將串列中的每一項加起來！\n",
        "\n",
        "lst_1 = [10, 25, 34, 76, 55, 69, 74, 93, 86]\n",
        "\n",
        "sum = 0\n",
        "for i in range(len(lst_1)):\n",
        "    sum = ?\n",
        "    \n",
        "print(f\"sum= {sum}\")\n",
        "\n",
        "# Q: 請完成平均值的計算: \n",
        "print(f\"average={?}\")\n",
        "    "
      ]
    },
    {
      "cell_type": "code",
      "execution_count": null,
      "id": "5b21b419",
      "metadata": {},
      "outputs": [],
      "source": [
        "# 找出 lst_1 中各有多少個奇數與偶數：\n",
        "\n",
        "# 先假設一個變數，來儲存到目前統計的奇數或偶數的個數，\n",
        "# 最後利用總數減去該數字，就是另一類型變數的個數。\n",
        "\n",
        "lst_1 = [10, 25, 34, 76, 55, 69, 74, 93, 86]\n",
        "\n",
        "num_odd = 0\n",
        "for k in range(?):\n",
        "    pass\n"
      ]
    }
  ],
  "metadata": {
    "kernelspec": {
      "display_name": "Python 3.9.7 64-bit",
      "language": "python",
      "name": "python3"
    },
    "language_info": {
      "codemirror_mode": {
        "name": "python",
        "version": 3
      },
      "file_extension": ".py",
      "mimetype": "text/x-python",
      "name": "python",
      "nbconvert_exporter": "python",
      "pygments_lexer": "ipython3",
      "version": "3.9.7"
    },
    "vscode": {
      "interpreter": {
        "hash": "c347c8f9a7ef94e4c9e03b4513be7835ed18f45b99a2a817fb579f408b867b16"
      }
    }
  },
  "nbformat": 4,
  "nbformat_minor": 5
}
